{
  "nbformat": 4,
  "nbformat_minor": 0,
  "metadata": {
    "colab": {
      "provenance": []
    },
    "kernelspec": {
      "name": "python3",
      "display_name": "Python 3"
    },
    "language_info": {
      "name": "python"
    }
  },
  "cells": [
    {
      "cell_type": "markdown",
      "source": [
        "# SA1-30 BAYQUEN **3-Factor ANOVA**\n",
        "Github link : https://github.com/notfolded/APM1220/blob/main/SA1-30.ipynb"
      ],
      "metadata": {
        "id": "RY-hnIDcdmqP"
      }
    },
    {
      "cell_type": "code",
      "source": [
        "import pandas as pd\n",
        "import numpy as np\n",
        "from scipy import stats\n",
        "import matplotlib.pyplot as plt\n",
        "import seaborn as sns\n",
        "from statsmodels.stats.anova import AnovaRM\n",
        "import pingouin as pg\n"
      ],
      "metadata": {
        "id": "iTqKrf7brza8"
      },
      "execution_count": 3,
      "outputs": []
    },
    {
      "cell_type": "code",
      "execution_count": 52,
      "metadata": {
        "colab": {
          "base_uri": "https://localhost:8080/",
          "height": 206
        },
        "id": "IKJHnOjVcZmj",
        "outputId": "1bf928be-299a-4027-f111-fd1c80f4a9fe"
      },
      "outputs": [
        {
          "output_type": "execute_result",
          "data": {
            "text/plain": [
              "   Server Server Type Security Protocol      Time  Response Time  \\\n",
              "0       1       Linux               SSL  Baseline      93.881199   \n",
              "1       1       Linux               SSL   1 Month     105.475710   \n",
              "2       1       Linux               SSL  2 Months     111.870916   \n",
              "3       2     Windows               TLS  Baseline     160.105153   \n",
              "4       2     Windows               TLS   1 Month     152.757781   \n",
              "\n",
              "  Server_Type_Protocol  \n",
              "0            Linux_SSL  \n",
              "1            Linux_SSL  \n",
              "2            Linux_SSL  \n",
              "3          Windows_TLS  \n",
              "4          Windows_TLS  "
            ],
            "text/html": [
              "\n",
              "  <div id=\"df-74b3a2c5-d268-428f-9958-8bd7726cd4ae\" class=\"colab-df-container\">\n",
              "    <div>\n",
              "<style scoped>\n",
              "    .dataframe tbody tr th:only-of-type {\n",
              "        vertical-align: middle;\n",
              "    }\n",
              "\n",
              "    .dataframe tbody tr th {\n",
              "        vertical-align: top;\n",
              "    }\n",
              "\n",
              "    .dataframe thead th {\n",
              "        text-align: right;\n",
              "    }\n",
              "</style>\n",
              "<table border=\"1\" class=\"dataframe\">\n",
              "  <thead>\n",
              "    <tr style=\"text-align: right;\">\n",
              "      <th></th>\n",
              "      <th>Server</th>\n",
              "      <th>Server Type</th>\n",
              "      <th>Security Protocol</th>\n",
              "      <th>Time</th>\n",
              "      <th>Response Time</th>\n",
              "      <th>Server_Type_Protocol</th>\n",
              "    </tr>\n",
              "  </thead>\n",
              "  <tbody>\n",
              "    <tr>\n",
              "      <th>0</th>\n",
              "      <td>1</td>\n",
              "      <td>Linux</td>\n",
              "      <td>SSL</td>\n",
              "      <td>Baseline</td>\n",
              "      <td>93.881199</td>\n",
              "      <td>Linux_SSL</td>\n",
              "    </tr>\n",
              "    <tr>\n",
              "      <th>1</th>\n",
              "      <td>1</td>\n",
              "      <td>Linux</td>\n",
              "      <td>SSL</td>\n",
              "      <td>1 Month</td>\n",
              "      <td>105.475710</td>\n",
              "      <td>Linux_SSL</td>\n",
              "    </tr>\n",
              "    <tr>\n",
              "      <th>2</th>\n",
              "      <td>1</td>\n",
              "      <td>Linux</td>\n",
              "      <td>SSL</td>\n",
              "      <td>2 Months</td>\n",
              "      <td>111.870916</td>\n",
              "      <td>Linux_SSL</td>\n",
              "    </tr>\n",
              "    <tr>\n",
              "      <th>3</th>\n",
              "      <td>2</td>\n",
              "      <td>Windows</td>\n",
              "      <td>TLS</td>\n",
              "      <td>Baseline</td>\n",
              "      <td>160.105153</td>\n",
              "      <td>Windows_TLS</td>\n",
              "    </tr>\n",
              "    <tr>\n",
              "      <th>4</th>\n",
              "      <td>2</td>\n",
              "      <td>Windows</td>\n",
              "      <td>TLS</td>\n",
              "      <td>1 Month</td>\n",
              "      <td>152.757781</td>\n",
              "      <td>Windows_TLS</td>\n",
              "    </tr>\n",
              "  </tbody>\n",
              "</table>\n",
              "</div>\n",
              "    <div class=\"colab-df-buttons\">\n",
              "\n",
              "  <div class=\"colab-df-container\">\n",
              "    <button class=\"colab-df-convert\" onclick=\"convertToInteractive('df-74b3a2c5-d268-428f-9958-8bd7726cd4ae')\"\n",
              "            title=\"Convert this dataframe to an interactive table.\"\n",
              "            style=\"display:none;\">\n",
              "\n",
              "  <svg xmlns=\"http://www.w3.org/2000/svg\" height=\"24px\" viewBox=\"0 -960 960 960\">\n",
              "    <path d=\"M120-120v-720h720v720H120Zm60-500h600v-160H180v160Zm220 220h160v-160H400v160Zm0 220h160v-160H400v160ZM180-400h160v-160H180v160Zm440 0h160v-160H620v160ZM180-180h160v-160H180v160Zm440 0h160v-160H620v160Z\"/>\n",
              "  </svg>\n",
              "    </button>\n",
              "\n",
              "  <style>\n",
              "    .colab-df-container {\n",
              "      display:flex;\n",
              "      gap: 12px;\n",
              "    }\n",
              "\n",
              "    .colab-df-convert {\n",
              "      background-color: #E8F0FE;\n",
              "      border: none;\n",
              "      border-radius: 50%;\n",
              "      cursor: pointer;\n",
              "      display: none;\n",
              "      fill: #1967D2;\n",
              "      height: 32px;\n",
              "      padding: 0 0 0 0;\n",
              "      width: 32px;\n",
              "    }\n",
              "\n",
              "    .colab-df-convert:hover {\n",
              "      background-color: #E2EBFA;\n",
              "      box-shadow: 0px 1px 2px rgba(60, 64, 67, 0.3), 0px 1px 3px 1px rgba(60, 64, 67, 0.15);\n",
              "      fill: #174EA6;\n",
              "    }\n",
              "\n",
              "    .colab-df-buttons div {\n",
              "      margin-bottom: 4px;\n",
              "    }\n",
              "\n",
              "    [theme=dark] .colab-df-convert {\n",
              "      background-color: #3B4455;\n",
              "      fill: #D2E3FC;\n",
              "    }\n",
              "\n",
              "    [theme=dark] .colab-df-convert:hover {\n",
              "      background-color: #434B5C;\n",
              "      box-shadow: 0px 1px 3px 1px rgba(0, 0, 0, 0.15);\n",
              "      filter: drop-shadow(0px 1px 2px rgba(0, 0, 0, 0.3));\n",
              "      fill: #FFFFFF;\n",
              "    }\n",
              "  </style>\n",
              "\n",
              "    <script>\n",
              "      const buttonEl =\n",
              "        document.querySelector('#df-74b3a2c5-d268-428f-9958-8bd7726cd4ae button.colab-df-convert');\n",
              "      buttonEl.style.display =\n",
              "        google.colab.kernel.accessAllowed ? 'block' : 'none';\n",
              "\n",
              "      async function convertToInteractive(key) {\n",
              "        const element = document.querySelector('#df-74b3a2c5-d268-428f-9958-8bd7726cd4ae');\n",
              "        const dataTable =\n",
              "          await google.colab.kernel.invokeFunction('convertToInteractive',\n",
              "                                                    [key], {});\n",
              "        if (!dataTable) return;\n",
              "\n",
              "        const docLinkHtml = 'Like what you see? Visit the ' +\n",
              "          '<a target=\"_blank\" href=https://colab.research.google.com/notebooks/data_table.ipynb>data table notebook</a>'\n",
              "          + ' to learn more about interactive tables.';\n",
              "        element.innerHTML = '';\n",
              "        dataTable['output_type'] = 'display_data';\n",
              "        await google.colab.output.renderOutput(dataTable, element);\n",
              "        const docLink = document.createElement('div');\n",
              "        docLink.innerHTML = docLinkHtml;\n",
              "        element.appendChild(docLink);\n",
              "      }\n",
              "    </script>\n",
              "  </div>\n",
              "\n",
              "\n",
              "<div id=\"df-cef040b8-70af-4a34-8201-b905601812d9\">\n",
              "  <button class=\"colab-df-quickchart\" onclick=\"quickchart('df-cef040b8-70af-4a34-8201-b905601812d9')\"\n",
              "            title=\"Suggest charts\"\n",
              "            style=\"display:none;\">\n",
              "\n",
              "<svg xmlns=\"http://www.w3.org/2000/svg\" height=\"24px\"viewBox=\"0 0 24 24\"\n",
              "     width=\"24px\">\n",
              "    <g>\n",
              "        <path d=\"M19 3H5c-1.1 0-2 .9-2 2v14c0 1.1.9 2 2 2h14c1.1 0 2-.9 2-2V5c0-1.1-.9-2-2-2zM9 17H7v-7h2v7zm4 0h-2V7h2v10zm4 0h-2v-4h2v4z\"/>\n",
              "    </g>\n",
              "</svg>\n",
              "  </button>\n",
              "\n",
              "<style>\n",
              "  .colab-df-quickchart {\n",
              "      --bg-color: #E8F0FE;\n",
              "      --fill-color: #1967D2;\n",
              "      --hover-bg-color: #E2EBFA;\n",
              "      --hover-fill-color: #174EA6;\n",
              "      --disabled-fill-color: #AAA;\n",
              "      --disabled-bg-color: #DDD;\n",
              "  }\n",
              "\n",
              "  [theme=dark] .colab-df-quickchart {\n",
              "      --bg-color: #3B4455;\n",
              "      --fill-color: #D2E3FC;\n",
              "      --hover-bg-color: #434B5C;\n",
              "      --hover-fill-color: #FFFFFF;\n",
              "      --disabled-bg-color: #3B4455;\n",
              "      --disabled-fill-color: #666;\n",
              "  }\n",
              "\n",
              "  .colab-df-quickchart {\n",
              "    background-color: var(--bg-color);\n",
              "    border: none;\n",
              "    border-radius: 50%;\n",
              "    cursor: pointer;\n",
              "    display: none;\n",
              "    fill: var(--fill-color);\n",
              "    height: 32px;\n",
              "    padding: 0;\n",
              "    width: 32px;\n",
              "  }\n",
              "\n",
              "  .colab-df-quickchart:hover {\n",
              "    background-color: var(--hover-bg-color);\n",
              "    box-shadow: 0 1px 2px rgba(60, 64, 67, 0.3), 0 1px 3px 1px rgba(60, 64, 67, 0.15);\n",
              "    fill: var(--button-hover-fill-color);\n",
              "  }\n",
              "\n",
              "  .colab-df-quickchart-complete:disabled,\n",
              "  .colab-df-quickchart-complete:disabled:hover {\n",
              "    background-color: var(--disabled-bg-color);\n",
              "    fill: var(--disabled-fill-color);\n",
              "    box-shadow: none;\n",
              "  }\n",
              "\n",
              "  .colab-df-spinner {\n",
              "    border: 2px solid var(--fill-color);\n",
              "    border-color: transparent;\n",
              "    border-bottom-color: var(--fill-color);\n",
              "    animation:\n",
              "      spin 1s steps(1) infinite;\n",
              "  }\n",
              "\n",
              "  @keyframes spin {\n",
              "    0% {\n",
              "      border-color: transparent;\n",
              "      border-bottom-color: var(--fill-color);\n",
              "      border-left-color: var(--fill-color);\n",
              "    }\n",
              "    20% {\n",
              "      border-color: transparent;\n",
              "      border-left-color: var(--fill-color);\n",
              "      border-top-color: var(--fill-color);\n",
              "    }\n",
              "    30% {\n",
              "      border-color: transparent;\n",
              "      border-left-color: var(--fill-color);\n",
              "      border-top-color: var(--fill-color);\n",
              "      border-right-color: var(--fill-color);\n",
              "    }\n",
              "    40% {\n",
              "      border-color: transparent;\n",
              "      border-right-color: var(--fill-color);\n",
              "      border-top-color: var(--fill-color);\n",
              "    }\n",
              "    60% {\n",
              "      border-color: transparent;\n",
              "      border-right-color: var(--fill-color);\n",
              "    }\n",
              "    80% {\n",
              "      border-color: transparent;\n",
              "      border-right-color: var(--fill-color);\n",
              "      border-bottom-color: var(--fill-color);\n",
              "    }\n",
              "    90% {\n",
              "      border-color: transparent;\n",
              "      border-bottom-color: var(--fill-color);\n",
              "    }\n",
              "  }\n",
              "</style>\n",
              "\n",
              "  <script>\n",
              "    async function quickchart(key) {\n",
              "      const quickchartButtonEl =\n",
              "        document.querySelector('#' + key + ' button');\n",
              "      quickchartButtonEl.disabled = true;  // To prevent multiple clicks.\n",
              "      quickchartButtonEl.classList.add('colab-df-spinner');\n",
              "      try {\n",
              "        const charts = await google.colab.kernel.invokeFunction(\n",
              "            'suggestCharts', [key], {});\n",
              "      } catch (error) {\n",
              "        console.error('Error during call to suggestCharts:', error);\n",
              "      }\n",
              "      quickchartButtonEl.classList.remove('colab-df-spinner');\n",
              "      quickchartButtonEl.classList.add('colab-df-quickchart-complete');\n",
              "    }\n",
              "    (() => {\n",
              "      let quickchartButtonEl =\n",
              "        document.querySelector('#df-cef040b8-70af-4a34-8201-b905601812d9 button');\n",
              "      quickchartButtonEl.style.display =\n",
              "        google.colab.kernel.accessAllowed ? 'block' : 'none';\n",
              "    })();\n",
              "  </script>\n",
              "</div>\n",
              "\n",
              "    </div>\n",
              "  </div>\n"
            ],
            "application/vnd.google.colaboratory.intrinsic+json": {
              "type": "dataframe",
              "variable_name": "response_df",
              "summary": "{\n  \"name\": \"response_df\",\n  \"rows\": 60,\n  \"fields\": [\n    {\n      \"column\": \"Server\",\n      \"properties\": {\n        \"dtype\": \"number\",\n        \"std\": 5,\n        \"min\": 1,\n        \"max\": 20,\n        \"num_unique_values\": 20,\n        \"samples\": [\n          1,\n          18,\n          16\n        ],\n        \"semantic_type\": \"\",\n        \"description\": \"\"\n      }\n    },\n    {\n      \"column\": \"Server Type\",\n      \"properties\": {\n        \"dtype\": \"category\",\n        \"num_unique_values\": 2,\n        \"samples\": [\n          \"Windows\",\n          \"Linux\"\n        ],\n        \"semantic_type\": \"\",\n        \"description\": \"\"\n      }\n    },\n    {\n      \"column\": \"Security Protocol\",\n      \"properties\": {\n        \"dtype\": \"category\",\n        \"num_unique_values\": 2,\n        \"samples\": [\n          \"TLS\",\n          \"SSL\"\n        ],\n        \"semantic_type\": \"\",\n        \"description\": \"\"\n      }\n    },\n    {\n      \"column\": \"Time\",\n      \"properties\": {\n        \"dtype\": \"category\",\n        \"num_unique_values\": 3,\n        \"samples\": [\n          \"Baseline\",\n          \"1 Month\"\n        ],\n        \"semantic_type\": \"\",\n        \"description\": \"\"\n      }\n    },\n    {\n      \"column\": \"Response Time\",\n      \"properties\": {\n        \"dtype\": \"number\",\n        \"std\": 20.593289538235762,\n        \"min\": 84.9184671,\n        \"max\": 165.6000427,\n        \"num_unique_values\": 60,\n        \"samples\": [\n          93.88119882,\n          160.4705811\n        ],\n        \"semantic_type\": \"\",\n        \"description\": \"\"\n      }\n    },\n    {\n      \"column\": \"Server_Type_Protocol\",\n      \"properties\": {\n        \"dtype\": \"category\",\n        \"num_unique_values\": 4,\n        \"samples\": [\n          \"Windows_TLS\",\n          \"Linux_TLS\"\n        ],\n        \"semantic_type\": \"\",\n        \"description\": \"\"\n      }\n    }\n  ]\n}"
            }
          },
          "metadata": {},
          "execution_count": 52
        }
      ],
      "source": [
        "# loading the dataset\n",
        "\n",
        "response_df = pd.read_csv(\"/content/drive/MyDrive/Applied Multivariate Data Anlysis/server_response_time_replicates.csv\")\n",
        "response_df['Time'] = pd.Categorical(response_df['Time'], categories=[\"Baseline\", \"1 Month\", \"2 Months\"], ordered=True)\n",
        "\n",
        "response_df['Server_Type_Protocol'] = response_df['Server Type'] + \"_\" + response_df['Security Protocol']\n",
        "\n",
        "response_df.head()\n",
        "\n"
      ]
    },
    {
      "cell_type": "markdown",
      "source": [
        "# **Assumption Validation**"
      ],
      "metadata": {
        "id": "lO29MJbAybHL"
      }
    },
    {
      "cell_type": "markdown",
      "source": [
        "**Normality Assumption**"
      ],
      "metadata": {
        "id": "GkrAADFJyeOF"
      }
    },
    {
      "cell_type": "code",
      "source": [
        "# Check Normality for each group\n",
        "normality_test = response_df.groupby(['Server_Type_Protocol', 'Time'])['Response Time'].apply(pg.normality)\n",
        "print(normality_test)"
      ],
      "metadata": {
        "colab": {
          "base_uri": "https://localhost:8080/"
        },
        "id": "Czj-hkrAyf6W",
        "outputId": "d23c5b70-4b8c-4a4f-927e-5c4cdd05700b"
      },
      "execution_count": 54,
      "outputs": [
        {
          "output_type": "stream",
          "name": "stdout",
          "text": [
            "                                                           W      pval  normal\n",
            "Server_Type_Protocol Time                                                     \n",
            "Linux_SSL            Baseline Linux_SSL   Baseline  0.948601  0.707390    True\n",
            "                     1 Month  Linux_SSL   1 Month   0.910743  0.486346    True\n",
            "                     2 Months Linux_SSL   2 Months  0.898632  0.424295    True\n",
            "Linux_TLS            Baseline Linux_TLS   Baseline  0.925163  0.510552    True\n",
            "                     1 Month  Linux_TLS   1 Month   0.915007  0.431623    True\n",
            "                     2 Months Linux_TLS   2 Months  0.924185  0.502602    True\n",
            "Windows_SSL          Baseline Windows_SSL Baseline  0.825995  0.129775    True\n",
            "                     1 Month  Windows_SSL 1 Month   0.906941  0.449427    True\n",
            "                     2 Months Windows_SSL 2 Months  0.909555  0.464921    True\n",
            "Windows_TLS          Baseline Windows_TLS Baseline  0.910347  0.484245    True\n",
            "                     1 Month  Windows_TLS 1 Month   0.815142  0.132266    True\n",
            "                     2 Months Windows_TLS 2 Months  0.877181  0.326735    True\n"
          ]
        },
        {
          "output_type": "stream",
          "name": "stderr",
          "text": [
            "<ipython-input-54-ffe5c2ac3e74>:3: FutureWarning: The default of observed=False is deprecated and will be changed to True in a future version of pandas. Pass observed=False to retain current behavior or observed=True to adopt the future default and silence this warning.\n",
            "  normality_test = response_df.groupby(['Server_Type_Protocol', 'Time'])['Response Time'].apply(pg.normality)\n"
          ]
        }
      ]
    },
    {
      "cell_type": "markdown",
      "source": [
        " For each combination of Server_Type_Protocol and Time, the p-values are all above 0.05. This indicates that we fail to reject the null hypothesis of normality for all groups. The server response times follow a normal distribution within each group, satisfying the normality assumption."
      ],
      "metadata": {
        "id": "tjeYTnn-2kRt"
      }
    },
    {
      "cell_type": "markdown",
      "source": [
        "**Sphericity Assumption**\n"
      ],
      "metadata": {
        "id": "P1kMo4I9zs57"
      }
    },
    {
      "cell_type": "code",
      "source": [
        "# Check Sphericity\n",
        "sphericity_test = pg.sphericity(response_df, dv='Response Time', within='Time', subject='Server')\n",
        "print(sphericity_test)"
      ],
      "metadata": {
        "colab": {
          "base_uri": "https://localhost:8080/"
        },
        "id": "zyGfY_bfzw63",
        "outputId": "2147e137-a6d7-46c4-f11e-e7c68e4c4a05"
      },
      "execution_count": 40,
      "outputs": [
        {
          "output_type": "stream",
          "name": "stdout",
          "text": [
            "\n",
            "Sphericity test result:\n",
            " SpherResults(spher=False, W=0.5592525843401225, chi2=10.460773035729904, dof=2, pval=0.0053514564693362306)\n"
          ]
        }
      ]
    },
    {
      "cell_type": "markdown",
      "source": [
        "The sphericity test result indicates a violation of the sphericity assumption (W = 0.559, χ2(2)=10.46χ2(2)=10.46, p = 0.0054). Since p < 0.05, we reject the null hypothesis, meaning the variances of the differences between time points are not equal. The Greenhouse-Geisser correction should be applied to adjust the degrees of freedom in the ANOVA for the Time factor."
      ],
      "metadata": {
        "id": "p6sR3Ki-2qQP"
      }
    },
    {
      "cell_type": "markdown",
      "source": [
        "**Homogeneity Assumption**"
      ],
      "metadata": {
        "id": "WXm6Rqx-0Y-t"
      }
    },
    {
      "cell_type": "code",
      "source": [
        "# Checking for Homogeneity of Variance\n",
        "response_df['Group'] = response_df['Server Type'] + \"_\" + response_df['Security Protocol']\n",
        "\n",
        "# Perform Levene's test for homogeneity of variances\n",
        "levene_test = pg.homoscedasticity(response_df, dv='Response Time', group='Server_Type_Protocol')\n",
        "print(levene_test)"
      ],
      "metadata": {
        "colab": {
          "base_uri": "https://localhost:8080/"
        },
        "id": "Daj-LuNjzys0",
        "outputId": "3489bf15-f302-42dd-c085-9703e084605a"
      },
      "execution_count": 51,
      "outputs": [
        {
          "output_type": "stream",
          "name": "stdout",
          "text": [
            "               W      pval  equal_var\n",
            "levene  0.781134  0.509468       True\n"
          ]
        }
      ]
    },
    {
      "cell_type": "markdown",
      "source": [
        "The p-value for Levene’s test is 0.509, which is greater than 0.05. This means we fail to reject the null hypothesis of equal variances, and the homogeneity of variance assumption is satisfied."
      ],
      "metadata": {
        "id": "okRDn8nC21vF"
      }
    },
    {
      "cell_type": "markdown",
      "source": [
        "**Independence Assumption**\n",
        "\n",
        "There is no relationship between the observations in each group of the independent variable or between the groups themselves—the values of each observations are independent of each other."
      ],
      "metadata": {
        "id": "Rn6yljys1FHw"
      }
    },
    {
      "cell_type": "markdown",
      "source": [
        "# **Performing the Three-Way ANOVA**"
      ],
      "metadata": {
        "id": "mRAQstKy1dUt"
      }
    },
    {
      "cell_type": "code",
      "source": [
        "# Perform a three-way mixed ANOVA (one between-subjects factor: Server_Type_Protocol, one within-subjects factor: Time)\n",
        "anova_results = pg.mixed_anova(dv='Response Time',\n",
        "                               within='Time',\n",
        "                               between='Server_Type_Protocol',\n",
        "                               subject='Server',\n",
        "                               data=response_df)\n",
        "\n",
        "print(anova_results)"
      ],
      "metadata": {
        "colab": {
          "base_uri": "https://localhost:8080/"
        },
        "id": "2EF7Ydzl1hQB",
        "outputId": "82bc56d7-36d5-4eaa-e218-280a61017389"
      },
      "execution_count": 55,
      "outputs": [
        {
          "output_type": "stream",
          "name": "stdout",
          "text": [
            "                 Source            SS  DF1  DF2           MS          F  \\\n",
            "0  Server_Type_Protocol  18616.553305    3   16  6205.517768  22.712627   \n",
            "1                  Time    530.953324    2   32   265.476662  21.234966   \n",
            "2           Interaction   1101.863049    6   32   183.643842  14.689317   \n",
            "\n",
            "          p-unc  p-GG-corr       np2       eps sphericity   W-spher   p-spher  \n",
            "0  5.204016e-06        NaN  0.809836       NaN        NaN       NaN       NaN  \n",
            "1  1.351152e-06   0.009115  0.570296  0.694084      False  0.559253  0.005351  \n",
            "2  5.518366e-08        NaN  0.733635       NaN        NaN       NaN       NaN  \n"
          ]
        }
      ]
    },
    {
      "cell_type": "markdown",
      "source": [
        "**1. Server Type and Security Protocol (between-subjects)**\n",
        "\n",
        "  There is a significant main effect of the combined Server Type and Security Protocol on response times. This suggests that server response times significantly differ between different server configurations (Linux vs. Windows and TLS vs. SSL). The large partial eta squared (η² = 0.81) indicates a strong effect size.\n",
        "\n",
        "  > **Main Effect of Server Type (Linux vs. Windows)**\n",
        "  The analysis indicates that server response times differ significantly between Linux and Windows configurations when considering the security protocols (TLS and SSL). The strong effect size (η² = 0.81) suggests that one server type consistently outperforms the other across all tested conditions.\n",
        "\n",
        "  > **Main Effect of Security Protocol (TLS vs. SSL)**\n",
        "  The significant effect of this combined factor implies that the type of security protocol also plays a significant role in influencing response times, possibly showing that one protocol is more efficient than the other across different server types.\n",
        "\n",
        "**2. Time (within-subjects, with Greenhouse-Geisser correction)**\n",
        "\n",
        "  There is a significant main effect of Time, meaning that server response times change significantly over the three time points (Baseline, 1 Month, 2 Months).The effect size is also substantial (η² = 0.57), indicating a notable change in response times over time.\n",
        "\n",
        "**3. Interaction between Server Type and Security Protocol**\n",
        "\n",
        "  There is a significant interaction effect between Server_Type_Protocol and Time. This suggests that the effect of Time on server response times depends on the server configuration (i.e., the interaction between Server Type and Security Protocol over time). The effect size (η² = 0.73) is strong, indicating that the interaction between server configuration and time has a significant impact on response times."
      ],
      "metadata": {
        "id": "ZxO-w0VY2-4l"
      }
    },
    {
      "cell_type": "markdown",
      "source": [
        "**Post-Hoc Tests**"
      ],
      "metadata": {
        "id": "Cj7VrFx75XwL"
      }
    },
    {
      "cell_type": "code",
      "source": [
        "# Conduct post-hoc tests for simple main effects of Time at each level of Server_Type_Protocol\n",
        "for protocol in response_df['Server_Type_Protocol'].unique():\n",
        "    print(f\"Post-hoc for {protocol}:\")\n",
        "    post_hoc_results = pg.pairwise_tukey(response_df[response_df['Server_Type_Protocol'] == protocol],\n",
        "                                          dv='Response Time',\n",
        "                                          between='Time')\n",
        "    print(post_hoc_results)\n",
        "\n"
      ],
      "metadata": {
        "colab": {
          "base_uri": "https://localhost:8080/"
        },
        "id": "9ir_Qvzk4crz",
        "outputId": "32fa00f2-5cba-4951-b53d-c19b11d81c9b"
      },
      "execution_count": 57,
      "outputs": [
        {
          "output_type": "stream",
          "name": "stdout",
          "text": [
            "Post-hoc for Linux_SSL:\n",
            "          A         B     mean(A)     mean(B)       diff        se         T  \\\n",
            "0  Baseline   1 Month  102.672297  113.475776 -10.803479  5.412746 -1.995933   \n",
            "1  Baseline  2 Months  102.672297  116.379736 -13.707439  5.412746 -2.532437   \n",
            "2   1 Month  2 Months  113.475776  116.379736  -2.903959  5.412746 -0.536504   \n",
            "\n",
            "    p-tukey    hedges  \n",
            "0  0.168817 -1.213436  \n",
            "1  0.074874 -1.559312  \n",
            "2  0.855688 -0.333250  \n",
            "Post-hoc for Windows_TLS:\n",
            "          A         B     mean(A)     mean(B)       diff        se         T  \\\n",
            "0  Baseline   1 Month  149.531083  144.339316   5.191767  8.640503  0.600864   \n",
            "1  Baseline  2 Months  149.531083  154.990024  -5.458941  8.640503 -0.631785   \n",
            "2   1 Month  2 Months  144.339316  154.990024 -10.650707  8.640503 -1.232649   \n",
            "\n",
            "    p-tukey    hedges  \n",
            "0  0.823160  0.372802  \n",
            "1  0.806826 -0.388445  \n",
            "2  0.464894 -0.751291  \n",
            "Post-hoc for Windows_SSL:\n",
            "          A         B     mean(A)     mean(B)      diff        se         T  \\\n",
            "0  Baseline   1 Month  139.458415  129.981283  9.477133  7.938061  1.193885   \n",
            "1  Baseline  2 Months  139.458415  132.875355  6.583060  7.938061  0.829303   \n",
            "2   1 Month  2 Months  129.981283  132.875355 -2.894073  7.938061 -0.364582   \n",
            "\n",
            "    p-tukey    hedges  \n",
            "0  0.478854  0.785511  \n",
            "1  0.692733  0.453253  \n",
            "2  0.929773 -0.193896  \n",
            "Post-hoc for Linux_TLS:\n",
            "          A         B     mean(A)     mean(B)       diff        se         T  \\\n",
            "0  Baseline   1 Month   97.233989  107.553788 -10.319799  4.003901 -2.577436   \n",
            "1  Baseline  2 Months   97.233989  111.416239 -14.182250  4.003901 -3.542108   \n",
            "2   1 Month  2 Months  107.553788  111.416239  -3.862451  4.003901 -0.964672   \n",
            "\n",
            "    p-tukey    hedges  \n",
            "0  0.047551 -1.234154  \n",
            "1  0.006263 -1.644137  \n",
            "2  0.607756 -0.559033  \n"
          ]
        }
      ]
    },
    {
      "cell_type": "markdown",
      "source": [
        "- **Linux SSL**\n",
        "\n",
        "  1. The comparison between Baseline and 1 Month shows a difference of -10.80 ms with a p-value of 0.169, indicating no significant difference.\n",
        "\n",
        "  2. The comparison between Baseline and 2 Months shows a difference of -13.71 ms with a p-value of 0.075, which is close to significance but not quite there (p < 0.05).\n",
        "\n",
        "  3. There is no significant difference between 1 Month and 2 Months (p = 0.856).\n",
        "\n",
        "- **Windows TLS**\n",
        "\n",
        "  1. No significant differences are observed in any of the comparisons (all p-values > 0.05).The response times do not change significantly from Baseline to 1 Month, Baseline to 2 Months, or from 1 Month to 2 Months.\n",
        "\n",
        "- **Windows SSL**\n",
        "\n",
        "  1. There are no significant differences in response times across the three time points (all p-values > 0.05).\n",
        "\n",
        "- **Linux TLS**\n",
        "\n",
        "  1. The comparison between Baseline and 1 Month shows a significant difference (p = 0.048), indicating that response times improved from Baseline to 1 Month.\n",
        "\n",
        "  2. The comparison between Baseline and 2 Months shows a significant difference (p = 0.006), indicating a notable improvement in response times over time.\n",
        "\n",
        "  3. There is no significant difference between 1 Month and 2 Months (p = 0.608)."
      ],
      "metadata": {
        "id": "9fp0atwQ4sG7"
      }
    }
  ]
}