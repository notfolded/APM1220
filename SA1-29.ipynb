{
  "nbformat": 4,
  "nbformat_minor": 0,
  "metadata": {
    "colab": {
      "provenance": []
    },
    "kernelspec": {
      "name": "python3",
      "display_name": "Python 3"
    },
    "language_info": {
      "name": "python"
    }
  },
  "cells": [
    {
      "cell_type": "markdown",
      "source": [
        "# SA1-29 BAYQUEN **two-way mixed model ANOVA**\n",
        "Github link: https://github.com/notfolded/APM1220/blob/main/SA1-29.ipynb"
      ],
      "metadata": {
        "id": "qRkhcTrPRBvy"
      }
    },
    {
      "cell_type": "code",
      "execution_count": 9,
      "metadata": {
        "id": "a5L9taTbQ8zi"
      },
      "outputs": [],
      "source": [
        "import pandas as pd\n",
        "import scipy.stats as stats\n",
        "import matplotlib.pyplot as plt\n",
        "import seaborn as sns\n",
        "import pingouin as pg"
      ]
    },
    {
      "cell_type": "code",
      "source": [
        "# loading the dataset\n",
        "\n",
        "weightloss_df = pd.read_csv(\"/content/drive/MyDrive/Applied Multivariate Data Anlysis/Weight Loss by Diet Type and Time.csv\")\n",
        "\n",
        "# Reshape the data for analysis\n",
        "weightloss_long = pd.melt(weightloss_df,\n",
        "                          id_vars=['Participant', 'Diet Type'],\n",
        "                          value_vars=['Baseline', 'After 1 month', 'After 2 months'],\n",
        "                          var_name='Time', value_name='Weight Loss')\n",
        "\n",
        "# Convert 'Time' to categorical and 'Weight Loss' to numeric\n",
        "weightloss_long['Time'] = pd.Categorical(weightloss_long['Time'],\n",
        "                                         categories=['Baseline', 'After 1 month', 'After 2 months'],\n",
        "                                         ordered=True)\n",
        "weightloss_long['Weight Loss'] = pd.to_numeric(weightloss_long['Weight Loss'])\n",
        "\n",
        "\n",
        "weightloss_long.head()"
      ],
      "metadata": {
        "colab": {
          "base_uri": "https://localhost:8080/",
          "height": 206
        },
        "id": "iELnYc4ZRwrW",
        "outputId": "78f6300d-bf66-415b-8f2c-6994e0164c7b"
      },
      "execution_count": 38,
      "outputs": [
        {
          "output_type": "execute_result",
          "data": {
            "text/plain": [
              "   Participant Diet Type      Time  Weight Loss\n",
              "0            1  Low-Carb  Baseline          0.0\n",
              "1            2  Low-Carb  Baseline          0.0\n",
              "2            3  Low-Carb  Baseline          0.0\n",
              "3            4  Low-Carb  Baseline          0.0\n",
              "4            5  Low-Carb  Baseline          0.0"
            ],
            "text/html": [
              "\n",
              "  <div id=\"df-0561615f-ce19-4834-8163-1d0f637bae3c\" class=\"colab-df-container\">\n",
              "    <div>\n",
              "<style scoped>\n",
              "    .dataframe tbody tr th:only-of-type {\n",
              "        vertical-align: middle;\n",
              "    }\n",
              "\n",
              "    .dataframe tbody tr th {\n",
              "        vertical-align: top;\n",
              "    }\n",
              "\n",
              "    .dataframe thead th {\n",
              "        text-align: right;\n",
              "    }\n",
              "</style>\n",
              "<table border=\"1\" class=\"dataframe\">\n",
              "  <thead>\n",
              "    <tr style=\"text-align: right;\">\n",
              "      <th></th>\n",
              "      <th>Participant</th>\n",
              "      <th>Diet Type</th>\n",
              "      <th>Time</th>\n",
              "      <th>Weight Loss</th>\n",
              "    </tr>\n",
              "  </thead>\n",
              "  <tbody>\n",
              "    <tr>\n",
              "      <th>0</th>\n",
              "      <td>1</td>\n",
              "      <td>Low-Carb</td>\n",
              "      <td>Baseline</td>\n",
              "      <td>0.0</td>\n",
              "    </tr>\n",
              "    <tr>\n",
              "      <th>1</th>\n",
              "      <td>2</td>\n",
              "      <td>Low-Carb</td>\n",
              "      <td>Baseline</td>\n",
              "      <td>0.0</td>\n",
              "    </tr>\n",
              "    <tr>\n",
              "      <th>2</th>\n",
              "      <td>3</td>\n",
              "      <td>Low-Carb</td>\n",
              "      <td>Baseline</td>\n",
              "      <td>0.0</td>\n",
              "    </tr>\n",
              "    <tr>\n",
              "      <th>3</th>\n",
              "      <td>4</td>\n",
              "      <td>Low-Carb</td>\n",
              "      <td>Baseline</td>\n",
              "      <td>0.0</td>\n",
              "    </tr>\n",
              "    <tr>\n",
              "      <th>4</th>\n",
              "      <td>5</td>\n",
              "      <td>Low-Carb</td>\n",
              "      <td>Baseline</td>\n",
              "      <td>0.0</td>\n",
              "    </tr>\n",
              "  </tbody>\n",
              "</table>\n",
              "</div>\n",
              "    <div class=\"colab-df-buttons\">\n",
              "\n",
              "  <div class=\"colab-df-container\">\n",
              "    <button class=\"colab-df-convert\" onclick=\"convertToInteractive('df-0561615f-ce19-4834-8163-1d0f637bae3c')\"\n",
              "            title=\"Convert this dataframe to an interactive table.\"\n",
              "            style=\"display:none;\">\n",
              "\n",
              "  <svg xmlns=\"http://www.w3.org/2000/svg\" height=\"24px\" viewBox=\"0 -960 960 960\">\n",
              "    <path d=\"M120-120v-720h720v720H120Zm60-500h600v-160H180v160Zm220 220h160v-160H400v160Zm0 220h160v-160H400v160ZM180-400h160v-160H180v160Zm440 0h160v-160H620v160ZM180-180h160v-160H180v160Zm440 0h160v-160H620v160Z\"/>\n",
              "  </svg>\n",
              "    </button>\n",
              "\n",
              "  <style>\n",
              "    .colab-df-container {\n",
              "      display:flex;\n",
              "      gap: 12px;\n",
              "    }\n",
              "\n",
              "    .colab-df-convert {\n",
              "      background-color: #E8F0FE;\n",
              "      border: none;\n",
              "      border-radius: 50%;\n",
              "      cursor: pointer;\n",
              "      display: none;\n",
              "      fill: #1967D2;\n",
              "      height: 32px;\n",
              "      padding: 0 0 0 0;\n",
              "      width: 32px;\n",
              "    }\n",
              "\n",
              "    .colab-df-convert:hover {\n",
              "      background-color: #E2EBFA;\n",
              "      box-shadow: 0px 1px 2px rgba(60, 64, 67, 0.3), 0px 1px 3px 1px rgba(60, 64, 67, 0.15);\n",
              "      fill: #174EA6;\n",
              "    }\n",
              "\n",
              "    .colab-df-buttons div {\n",
              "      margin-bottom: 4px;\n",
              "    }\n",
              "\n",
              "    [theme=dark] .colab-df-convert {\n",
              "      background-color: #3B4455;\n",
              "      fill: #D2E3FC;\n",
              "    }\n",
              "\n",
              "    [theme=dark] .colab-df-convert:hover {\n",
              "      background-color: #434B5C;\n",
              "      box-shadow: 0px 1px 3px 1px rgba(0, 0, 0, 0.15);\n",
              "      filter: drop-shadow(0px 1px 2px rgba(0, 0, 0, 0.3));\n",
              "      fill: #FFFFFF;\n",
              "    }\n",
              "  </style>\n",
              "\n",
              "    <script>\n",
              "      const buttonEl =\n",
              "        document.querySelector('#df-0561615f-ce19-4834-8163-1d0f637bae3c button.colab-df-convert');\n",
              "      buttonEl.style.display =\n",
              "        google.colab.kernel.accessAllowed ? 'block' : 'none';\n",
              "\n",
              "      async function convertToInteractive(key) {\n",
              "        const element = document.querySelector('#df-0561615f-ce19-4834-8163-1d0f637bae3c');\n",
              "        const dataTable =\n",
              "          await google.colab.kernel.invokeFunction('convertToInteractive',\n",
              "                                                    [key], {});\n",
              "        if (!dataTable) return;\n",
              "\n",
              "        const docLinkHtml = 'Like what you see? Visit the ' +\n",
              "          '<a target=\"_blank\" href=https://colab.research.google.com/notebooks/data_table.ipynb>data table notebook</a>'\n",
              "          + ' to learn more about interactive tables.';\n",
              "        element.innerHTML = '';\n",
              "        dataTable['output_type'] = 'display_data';\n",
              "        await google.colab.output.renderOutput(dataTable, element);\n",
              "        const docLink = document.createElement('div');\n",
              "        docLink.innerHTML = docLinkHtml;\n",
              "        element.appendChild(docLink);\n",
              "      }\n",
              "    </script>\n",
              "  </div>\n",
              "\n",
              "\n",
              "<div id=\"df-059c74a5-2f11-4bae-a1ea-18486ef7a8fb\">\n",
              "  <button class=\"colab-df-quickchart\" onclick=\"quickchart('df-059c74a5-2f11-4bae-a1ea-18486ef7a8fb')\"\n",
              "            title=\"Suggest charts\"\n",
              "            style=\"display:none;\">\n",
              "\n",
              "<svg xmlns=\"http://www.w3.org/2000/svg\" height=\"24px\"viewBox=\"0 0 24 24\"\n",
              "     width=\"24px\">\n",
              "    <g>\n",
              "        <path d=\"M19 3H5c-1.1 0-2 .9-2 2v14c0 1.1.9 2 2 2h14c1.1 0 2-.9 2-2V5c0-1.1-.9-2-2-2zM9 17H7v-7h2v7zm4 0h-2V7h2v10zm4 0h-2v-4h2v4z\"/>\n",
              "    </g>\n",
              "</svg>\n",
              "  </button>\n",
              "\n",
              "<style>\n",
              "  .colab-df-quickchart {\n",
              "      --bg-color: #E8F0FE;\n",
              "      --fill-color: #1967D2;\n",
              "      --hover-bg-color: #E2EBFA;\n",
              "      --hover-fill-color: #174EA6;\n",
              "      --disabled-fill-color: #AAA;\n",
              "      --disabled-bg-color: #DDD;\n",
              "  }\n",
              "\n",
              "  [theme=dark] .colab-df-quickchart {\n",
              "      --bg-color: #3B4455;\n",
              "      --fill-color: #D2E3FC;\n",
              "      --hover-bg-color: #434B5C;\n",
              "      --hover-fill-color: #FFFFFF;\n",
              "      --disabled-bg-color: #3B4455;\n",
              "      --disabled-fill-color: #666;\n",
              "  }\n",
              "\n",
              "  .colab-df-quickchart {\n",
              "    background-color: var(--bg-color);\n",
              "    border: none;\n",
              "    border-radius: 50%;\n",
              "    cursor: pointer;\n",
              "    display: none;\n",
              "    fill: var(--fill-color);\n",
              "    height: 32px;\n",
              "    padding: 0;\n",
              "    width: 32px;\n",
              "  }\n",
              "\n",
              "  .colab-df-quickchart:hover {\n",
              "    background-color: var(--hover-bg-color);\n",
              "    box-shadow: 0 1px 2px rgba(60, 64, 67, 0.3), 0 1px 3px 1px rgba(60, 64, 67, 0.15);\n",
              "    fill: var(--button-hover-fill-color);\n",
              "  }\n",
              "\n",
              "  .colab-df-quickchart-complete:disabled,\n",
              "  .colab-df-quickchart-complete:disabled:hover {\n",
              "    background-color: var(--disabled-bg-color);\n",
              "    fill: var(--disabled-fill-color);\n",
              "    box-shadow: none;\n",
              "  }\n",
              "\n",
              "  .colab-df-spinner {\n",
              "    border: 2px solid var(--fill-color);\n",
              "    border-color: transparent;\n",
              "    border-bottom-color: var(--fill-color);\n",
              "    animation:\n",
              "      spin 1s steps(1) infinite;\n",
              "  }\n",
              "\n",
              "  @keyframes spin {\n",
              "    0% {\n",
              "      border-color: transparent;\n",
              "      border-bottom-color: var(--fill-color);\n",
              "      border-left-color: var(--fill-color);\n",
              "    }\n",
              "    20% {\n",
              "      border-color: transparent;\n",
              "      border-left-color: var(--fill-color);\n",
              "      border-top-color: var(--fill-color);\n",
              "    }\n",
              "    30% {\n",
              "      border-color: transparent;\n",
              "      border-left-color: var(--fill-color);\n",
              "      border-top-color: var(--fill-color);\n",
              "      border-right-color: var(--fill-color);\n",
              "    }\n",
              "    40% {\n",
              "      border-color: transparent;\n",
              "      border-right-color: var(--fill-color);\n",
              "      border-top-color: var(--fill-color);\n",
              "    }\n",
              "    60% {\n",
              "      border-color: transparent;\n",
              "      border-right-color: var(--fill-color);\n",
              "    }\n",
              "    80% {\n",
              "      border-color: transparent;\n",
              "      border-right-color: var(--fill-color);\n",
              "      border-bottom-color: var(--fill-color);\n",
              "    }\n",
              "    90% {\n",
              "      border-color: transparent;\n",
              "      border-bottom-color: var(--fill-color);\n",
              "    }\n",
              "  }\n",
              "</style>\n",
              "\n",
              "  <script>\n",
              "    async function quickchart(key) {\n",
              "      const quickchartButtonEl =\n",
              "        document.querySelector('#' + key + ' button');\n",
              "      quickchartButtonEl.disabled = true;  // To prevent multiple clicks.\n",
              "      quickchartButtonEl.classList.add('colab-df-spinner');\n",
              "      try {\n",
              "        const charts = await google.colab.kernel.invokeFunction(\n",
              "            'suggestCharts', [key], {});\n",
              "      } catch (error) {\n",
              "        console.error('Error during call to suggestCharts:', error);\n",
              "      }\n",
              "      quickchartButtonEl.classList.remove('colab-df-spinner');\n",
              "      quickchartButtonEl.classList.add('colab-df-quickchart-complete');\n",
              "    }\n",
              "    (() => {\n",
              "      let quickchartButtonEl =\n",
              "        document.querySelector('#df-059c74a5-2f11-4bae-a1ea-18486ef7a8fb button');\n",
              "      quickchartButtonEl.style.display =\n",
              "        google.colab.kernel.accessAllowed ? 'block' : 'none';\n",
              "    })();\n",
              "  </script>\n",
              "</div>\n",
              "\n",
              "    </div>\n",
              "  </div>\n"
            ],
            "application/vnd.google.colaboratory.intrinsic+json": {
              "type": "dataframe",
              "variable_name": "weightloss_long",
              "summary": "{\n  \"name\": \"weightloss_long\",\n  \"rows\": 60,\n  \"fields\": [\n    {\n      \"column\": \"Participant\",\n      \"properties\": {\n        \"dtype\": \"number\",\n        \"std\": 5,\n        \"min\": 1,\n        \"max\": 20,\n        \"num_unique_values\": 20,\n        \"samples\": [\n          1,\n          18,\n          16\n        ],\n        \"semantic_type\": \"\",\n        \"description\": \"\"\n      }\n    },\n    {\n      \"column\": \"Diet Type\",\n      \"properties\": {\n        \"dtype\": \"category\",\n        \"num_unique_values\": 2,\n        \"samples\": [\n          \"Low-Fat\",\n          \"Low-Carb\"\n        ],\n        \"semantic_type\": \"\",\n        \"description\": \"\"\n      }\n    },\n    {\n      \"column\": \"Time\",\n      \"properties\": {\n        \"dtype\": \"category\",\n        \"num_unique_values\": 3,\n        \"samples\": [\n          \"Baseline\",\n          \"After 1 month\"\n        ],\n        \"semantic_type\": \"\",\n        \"description\": \"\"\n      }\n    },\n    {\n      \"column\": \"Weight Loss\",\n      \"properties\": {\n        \"dtype\": \"number\",\n        \"std\": 1.3762718822185207,\n        \"min\": 0.0,\n        \"max\": 4.3,\n        \"num_unique_values\": 26,\n        \"samples\": [\n          2.2,\n          3.8\n        ],\n        \"semantic_type\": \"\",\n        \"description\": \"\"\n      }\n    }\n  ]\n}"
            }
          },
          "metadata": {},
          "execution_count": 38
        }
      ]
    },
    {
      "cell_type": "markdown",
      "source": [
        "# **Assumption Validation***\n",
        "\n"
      ],
      "metadata": {
        "id": "uIFBDCW1R7TX"
      }
    },
    {
      "cell_type": "markdown",
      "source": [
        "**Normality Assumption**\n"
      ],
      "metadata": {
        "id": "xUxTLmd4SAEf"
      }
    },
    {
      "cell_type": "code",
      "source": [
        "# Check normality\n",
        "for diet in weightloss_long['Diet Type'].unique():\n",
        "    for time in weightloss_long['Time'].unique():\n",
        "        _, p_value = stats.shapiro(weightloss_long[(weightloss_long['Diet Type'] == diet) &\n",
        "                                                   (weightloss_long['Time'] == time)]['Weight Loss'])\n",
        "        print(f\"Shapiro-Wilk test p-value for {diet} at {time}: {p_value:.4f}\")\n"
      ],
      "metadata": {
        "colab": {
          "base_uri": "https://localhost:8080/"
        },
        "id": "j3_TwpAJSBbr",
        "outputId": "65216628-6532-48ea-f907-2a4d8caaf429"
      },
      "execution_count": 40,
      "outputs": [
        {
          "output_type": "stream",
          "name": "stdout",
          "text": [
            "Shapiro-Wilk test p-value for Low-Carb at Baseline: 1.0000\n",
            "Shapiro-Wilk test p-value for Low-Carb at After 1 month: 0.6951\n",
            "Shapiro-Wilk test p-value for Low-Carb at After 2 months: 0.9347\n",
            "Shapiro-Wilk test p-value for Low-Fat at Baseline: 1.0000\n",
            "Shapiro-Wilk test p-value for Low-Fat at After 1 month: 0.6459\n",
            "Shapiro-Wilk test p-value for Low-Fat at After 2 months: 0.4941\n"
          ]
        }
      ]
    },
    {
      "cell_type": "markdown",
      "source": [
        "For all the time points and both diet types, the p-values are well above 0.05, meaning we fail to reject the null hypothesis of normality. This indicates that the normality assumption is satisfied."
      ],
      "metadata": {
        "id": "kY1wl6DlVlsj"
      }
    },
    {
      "cell_type": "markdown",
      "source": [
        "**Sphericity Test**"
      ],
      "metadata": {
        "id": "u3RX8Uo5SHa4"
      }
    },
    {
      "cell_type": "code",
      "source": [
        "# Mauchly's test for sphericity (using pingouin)\n",
        "sphericity_results = pg.sphericity(df_melt, dv='Weight Loss', within='Time', subject='Participant')\n",
        "print(f\"Mauchly's test for sphericity: {sphericity_results}\")\n"
      ],
      "metadata": {
        "colab": {
          "base_uri": "https://localhost:8080/"
        },
        "id": "5dnWuLGgSG_1",
        "outputId": "8923f58f-f63f-4d48-824a-ab2a1e442e77"
      },
      "execution_count": 16,
      "outputs": [
        {
          "output_type": "stream",
          "name": "stdout",
          "text": [
            "Mauchly's test for sphericity: SpherResults(spher=False, W=0.09429927870847703, chi2=42.5030712889439, dof=2, pval=5.896242510895627e-10)\n"
          ]
        }
      ]
    },
    {
      "cell_type": "markdown",
      "source": [
        "The p-value for Mauchly’s test is very small (p < 0.05), meaning the sphericity assumption is violated. Since sphericity is violated, we need to apply the Greenhouse-Geisser correction when interpreting the results of the within-subjects factor (Time)."
      ],
      "metadata": {
        "id": "LAxjeLBlVqcJ"
      }
    },
    {
      "cell_type": "markdown",
      "source": [
        "**Homogeneity of Variance**"
      ],
      "metadata": {
        "id": "bQ1wCAWqSb4C"
      }
    },
    {
      "cell_type": "code",
      "source": [
        "# Check homogeneity of variance\n",
        "levene_results = []\n",
        "for time in weightloss_long['Time'].unique():\n",
        "    stat, p = stats.levene(weightloss_long[(weightloss_long['Diet Type'] == 'Low-Carb') &\n",
        "                                           (weightloss_long['Time'] == time)]['Weight Loss'],\n",
        "                           weightloss_long[(weightloss_long['Diet Type'] == 'Low-Fat') &\n",
        "                                           (weightloss_long['Time'] == time)]['Weight Loss'])\n",
        "    levene_results.append((time, stat, p))\n",
        "\n",
        "print(\"\\nLevene's test results:\")\n",
        "for time, stat, p in levene_results:\n",
        "    print(f\"{time}: statistic = {stat:.4f}, p-value = {p:.4f}\")"
      ],
      "metadata": {
        "colab": {
          "base_uri": "https://localhost:8080/"
        },
        "id": "FkO1Vh3GSdlC",
        "outputId": "d815e175-72d4-44bf-9aed-5d2e790a4a96"
      },
      "execution_count": 45,
      "outputs": [
        {
          "output_type": "stream",
          "name": "stdout",
          "text": [
            "\n",
            "Levene's test results:\n",
            "Baseline: statistic = nan, p-value = nan\n",
            "After 1 month: statistic = 0.8588, p-value = 0.3663\n",
            "After 2 months: statistic = 2.6036, p-value = 0.1240\n"
          ]
        },
        {
          "output_type": "stream",
          "name": "stderr",
          "text": [
            "/usr/local/lib/python3.10/dist-packages/scipy/stats/_morestats.py:3345: RuntimeWarning: invalid value encountered in scalar divide\n",
            "  W = numer / denom\n"
          ]
        }
      ]
    },
    {
      "cell_type": "markdown",
      "source": [
        "Levene’s test results for \"After 1 Month\" and \"After 2 Months\" have p-values greater than 0.05, which indicates that the variances between groups are not significantly different at these time points. Hence, the homogeneity of variance assumption is satisfied for these time points."
      ],
      "metadata": {
        "id": "7W20tPr_VyxU"
      }
    },
    {
      "cell_type": "markdown",
      "source": [
        "# **Performing the Two-way mixed Anova**"
      ],
      "metadata": {
        "id": "M6u1n0JBVCTw"
      }
    },
    {
      "cell_type": "code",
      "source": [
        "# 1. Within-subjects effect (Time)\n",
        "time_effects = {}\n",
        "for diet in weightloss_long['Diet Type'].unique():\n",
        "    diet_data = weightloss_long[weightloss_long['Diet Type'] == diet]\n",
        "    f_val, p_val = stats.f_oneway(diet_data[diet_data['Time'] == 'Baseline']['Weight Loss'],\n",
        "                                  diet_data[diet_data['Time'] == 'After 1 month']['Weight Loss'],\n",
        "                                  diet_data[diet_data['Time'] == 'After 2 months']['Weight Loss'])\n",
        "    time_effects[diet] = {'F-value': f_val, 'p-value': p_val}\n",
        "\n",
        "print(\"Within-subjects effect (Time):\")\n",
        "for diet, result in time_effects.items():\n",
        "    print(f\"{diet}: F = {result['F-value']:.4f}, p = {result['p-value']:.4f}\")\n",
        "\n",
        "# 2. Between-subjects effect (Diet Type)\n",
        "diet_effects = {}\n",
        "for time in weightloss_long['Time'].unique():\n",
        "    time_data = weightloss_long[weightloss_long['Time'] == time]\n",
        "    f_val, p_val = stats.f_oneway(time_data[time_data['Diet Type'] == 'Low-Carb']['Weight Loss'],\n",
        "                                  time_data[time_data['Diet Type'] == 'Low-Fat']['Weight Loss'])\n",
        "    diet_effects[time] = {'F-value': f_val, 'p-value': p_val}\n",
        "\n",
        "print(\"\\nBetween-subjects effect (Diet Type):\")\n",
        "for time, result in diet_effects.items():\n",
        "    print(f\"{time}: F = {result['F-value']:.4f}, p = {result['p-value']:.4f}\")\n",
        "\n",
        "# 3. Interaction effect (Diet Type x Time)\n",
        "model = ols('Q(\"Weight Loss\") ~ C(Q(\"Diet Type\")) + C(Time) + C(Q(\"Diet Type\")):C(Time)',\n",
        "            data=weightloss_long).fit()\n",
        "anova_table = sm.stats.anova_lm(model, typ=2)\n",
        "\n",
        "print(\"\\nInteraction effect (Diet Type x Time):\")\n",
        "print(anova_table)\n",
        "\n",
        "# Calculate effect sizes (partial eta-squared)\n",
        "def partial_eta_squared(aov):\n",
        "    aov['eta2'] = 'NaN'\n",
        "    aov['eta2'] = aov[:-1]['sum_sq'] / (aov[:-1]['sum_sq'] + aov['sum_sq'].iloc[-1])\n",
        "    return aov\n",
        "\n",
        "anova_table = partial_eta_squared(anova_table)\n",
        "print(\"\\nANOVA table with effect sizes:\")\n",
        "print(anova_table)"
      ],
      "metadata": {
        "colab": {
          "base_uri": "https://localhost:8080/"
        },
        "id": "YOHB4YYvTbCX",
        "outputId": "420c3fe4-97e9-4641-b35e-40fee826bc4e"
      },
      "execution_count": 47,
      "outputs": [
        {
          "output_type": "stream",
          "name": "stdout",
          "text": [
            "Within-subjects effect (Time):\n",
            "Low-Carb: F = 969.4394, p = 0.0000\n",
            "Low-Fat: F = 670.3252, p = 0.0000\n",
            "\n",
            "Between-subjects effect (Diet Type):\n",
            "Baseline: F = nan, p = nan\n",
            "After 1 month: F = 57.3064, p = 0.0000\n",
            "After 2 months: F = 309.9753, p = 0.0000\n",
            "\n",
            "Interaction effect (Diet Type x Time):\n",
            "                              sum_sq    df            F        PR(>F)\n",
            "C(Q(\"Diet Type\"))           9.440667   1.0   328.054054  1.326833e-24\n",
            "C(Time)                    93.334333   2.0  1621.638996  6.087392e-49\n",
            "C(Q(\"Diet Type\")):C(Time)   7.424333   2.0   128.994208  2.709523e-21\n",
            "Residual                    1.554000  54.0          NaN           NaN\n",
            "\n",
            "ANOVA table with effect sizes:\n",
            "                              sum_sq    df            F        PR(>F)  \\\n",
            "C(Q(\"Diet Type\"))           9.440667   1.0   328.054054  1.326833e-24   \n",
            "C(Time)                    93.334333   2.0  1621.638996  6.087392e-49   \n",
            "C(Q(\"Diet Type\")):C(Time)   7.424333   2.0   128.994208  2.709523e-21   \n",
            "Residual                    1.554000  54.0          NaN           NaN   \n",
            "\n",
            "                               eta2  \n",
            "C(Q(\"Diet Type\"))          0.858659  \n",
            "C(Time)                    0.983623  \n",
            "C(Q(\"Diet Type\")):C(Time)  0.826917  \n",
            "Residual                        NaN  \n"
          ]
        },
        {
          "output_type": "stream",
          "name": "stderr",
          "text": [
            "/usr/local/lib/python3.10/dist-packages/scipy/stats/_axis_nan_policy.py:531: ConstantInputWarning: Each of the input arrays is constant; the F statistic is not defined or infinite\n",
            "  res = hypotest_fun_out(*samples, **kwds)\n"
          ]
        }
      ]
    },
    {
      "cell_type": "markdown",
      "source": [
        "- **Main Effect of Diet Type (Between-Subjects Effect)**:\n",
        "\n",
        " For both diet types, there is a highly significant effect of time on weight loss (p < 0.0001). This means that weight loss changed significantly over the course of the study for both the Low-Carb and Low-Fat diets. The larger F-value for the Low-Carb diet suggests that the effect of time might be more pronounced in this group.\n",
        "\n",
        "- **Main Effect of Time (Within-Subjects Effect)**:\n",
        "\n",
        "  The 'nan' values at baseline indicate that there was no variation between groups at the start, which is expected as all participants began at 0 kg weight loss. After 1 month and 2 months, there are highly significant differences between the diet types (p < 0.0001). The much larger F-value at 2 months (309.9753) compared to 1 month (57.3064) suggests that the difference between diet types becomes more pronounced over time.\n",
        "\n",
        "- **Interaction Effect (Diet Type x Time)**:\n",
        "\n",
        "  All effect sizes are very large (> 0.14 is typically considered a large effect). Time has the largest effect size, followed by Diet Type, and then the interaction. This suggests that while all factors have a strong influence, the passage of time has the most substantial impact on weight loss, followed by the type of diet, and then how the diet type's effect changes over time."
      ],
      "metadata": {
        "id": "iBUmvfoLahvQ"
      }
    },
    {
      "cell_type": "markdown",
      "source": [
        "**Post-hoc test**"
      ],
      "metadata": {
        "id": "YtirxH8rVHue"
      }
    },
    {
      "cell_type": "code",
      "source": [
        "posthoc_results = pg.pairwise_ttests(dv='Weight_Loss', within='Time', between='Diet Type',\n",
        "                                     subject='Participant', data=df_melt, padjust='bonf')\n",
        "print(posthoc_results)"
      ],
      "metadata": {
        "colab": {
          "base_uri": "https://localhost:8080/"
        },
        "id": "Y9_e5b6sVJHr",
        "outputId": "417bbd15-40e0-4775-9ce4-4185d96f7a01"
      },
      "execution_count": 35,
      "outputs": [
        {
          "output_type": "stream",
          "name": "stdout",
          "text": [
            "           Contrast            Time               A               B Paired  \\\n",
            "0              Time               -   After 1 month  After 2 months   True   \n",
            "1              Time               -   After 1 month        Baseline   True   \n",
            "2              Time               -  After 2 months        Baseline   True   \n",
            "3         Diet Type               -        Low-Carb         Low-Fat  False   \n",
            "4  Time * Diet Type   After 1 month        Low-Carb         Low-Fat  False   \n",
            "5  Time * Diet Type  After 2 months        Low-Carb         Low-Fat  False   \n",
            "6  Time * Diet Type        Baseline        Low-Carb         Low-Fat  False   \n",
            "\n",
            "  Parametric          T   dof alternative         p-unc        p-corr  \\\n",
            "0       True -12.440914  19.0   two-sided  1.405194e-10  4.215581e-10   \n",
            "1       True  17.536628  19.0   two-sided  3.423323e-13  1.026997e-12   \n",
            "2       True  15.141360  19.0   two-sided  4.666314e-12  1.399894e-11   \n",
            "3       True  13.217690  18.0   two-sided  1.048878e-10           NaN   \n",
            "4       True   7.570098  18.0   two-sided  5.332857e-07  1.066571e-06   \n",
            "5       True  17.606114  18.0   two-sided  8.593338e-13  1.718668e-12   \n",
            "6       True        NaN  18.0   two-sided           NaN           NaN   \n",
            "\n",
            "  p-adjust       BF10    hedges  \n",
            "0     bonf  6.677e+07 -2.125791  \n",
            "1     bonf  1.894e+10  5.435392  \n",
            "2     bonf  1.625e+09  4.692990  \n",
            "3      NaN  4.637e+07  5.661365  \n",
            "4     bonf  1.886e+04  3.242404  \n",
            "5     bonf  4.079e+09  7.541002  \n",
            "6     bonf        nan       NaN  \n"
          ]
        },
        {
          "output_type": "stream",
          "name": "stderr",
          "text": [
            "/usr/local/lib/python3.10/dist-packages/pingouin/effsize.py:803: RuntimeWarning: invalid value encountered in scalar divide\n",
            "  d = (x.mean() - y.mean()) / poolsd\n"
          ]
        }
      ]
    },
    {
      "cell_type": "markdown",
      "source": [
        "**Time Contrasts**\n",
        "\n",
        "- After 1 month vs. After 2 months:\n",
        "\n",
        "  There's a significant difference in weight loss between 1 month and 2 months (p < 0.001). The negative T-value and Hedges' g indicate that weight loss is greater at 2 months.\n",
        "\n",
        "- After 1 month vs. Baseline:\n",
        "\n",
        "  There's a significant difference between 1 month and baseline (p < 0.001). The positive T-value and large Hedges' g indicate substantially more weight loss at 1 month compared to baseline.\n",
        "\n",
        "- After 2 months vs. Baseline:\n",
        "\n",
        "  There's a significant difference between 2 months and baseline (p < 0.001). The positive T-value and large Hedges' g show substantially more weight loss at 2 months compared to baseline.\n",
        "\n",
        "**Diet Type Contrast**\n",
        "\n",
        "- Low-Carb vs. Low-Fat:\n",
        "\n",
        "   There's a significant overall difference between Low-Carb and Low-Fat diets (p < 0.001). The positive T-value and large Hedges' g indicate that the Low-Carb diet results in more weight loss overall.\n",
        "\n",
        "- Time x Diet Type Interaction:\n",
        "\n",
        "  There's a significant difference between diet types at 1 month (p < 0.001). The positive T-value and Hedges' g indicate that Low-Carb results in more weight loss at 1 month.\n",
        "\n",
        "- After 2 months: Low-Carb vs. Low-Fat\n",
        "\n",
        "  There's a significant difference between diet types at 2 months (p < 0.001). The positive T-value and very large Hedges' g indicate that Low-Carb results in substantially more weight loss at 2 months.\n",
        "\n",
        "- Baseline: Low-Carb vs. Low-Fat\n",
        "\n",
        "  All values are NaN, which is expected as there should be no difference at baseline (all participants start at 0 weight loss)."
      ],
      "metadata": {
        "id": "o23FfabHbpT2"
      }
    }
  ]
}