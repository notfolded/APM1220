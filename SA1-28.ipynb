{
  "nbformat": 4,
  "nbformat_minor": 0,
  "metadata": {
    "colab": {
      "provenance": []
    },
    "kernelspec": {
      "name": "python3",
      "display_name": "Python 3"
    },
    "language_info": {
      "name": "python"
    }
  },
  "cells": [
    {
      "cell_type": "markdown",
      "source": [
        "# SA1-28 BAYQUEN **2x2 Between-Subjects ANOVA**\n",
        "Github link: https://github.com/notfolded/APM1220/blob/main/SA1-28.ipynb"
      ],
      "metadata": {
        "id": "j6b1ETIVLNbQ"
      }
    },
    {
      "cell_type": "code",
      "source": [
        "import pandas as pd\n",
        "import scipy.stats as stats\n",
        "import matplotlib.pyplot as plt\n",
        "import seaborn as sns\n",
        "import statsmodels.api as sm\n",
        "from statsmodels.stats.anova import AnovaRM\n",
        "from statsmodels.stats.multicomp import pairwise_tukeyhsd\n",
        "from statsmodels.formula.api import ols"
      ],
      "metadata": {
        "id": "Jw90oqutL1-6"
      },
      "execution_count": 5,
      "outputs": []
    },
    {
      "cell_type": "code",
      "execution_count": 3,
      "metadata": {
        "colab": {
          "base_uri": "https://localhost:8080/",
          "height": 206
        },
        "id": "cb0TKIOkLHmc",
        "outputId": "890dcaf8-9566-4b36-a2b1-74fb681aa1ae"
      },
      "outputs": [
        {
          "output_type": "execute_result",
          "data": {
            "text/plain": [
              "   Participant Diet Type Exercise Intensity  Weight Loss (kg)\n",
              "0            1  Low-Carb      Low Intensity               2.5\n",
              "1            2  Low-Carb      Low Intensity               2.8\n",
              "2            3  Low-Carb      Low Intensity               2.9\n",
              "3            4  Low-Carb      Low Intensity               3.0\n",
              "4            5  Low-Carb      Low Intensity               2.7"
            ],
            "text/html": [
              "\n",
              "  <div id=\"df-5c2d4d3a-ee6a-4ad3-ae3e-5620cef366d5\" class=\"colab-df-container\">\n",
              "    <div>\n",
              "<style scoped>\n",
              "    .dataframe tbody tr th:only-of-type {\n",
              "        vertical-align: middle;\n",
              "    }\n",
              "\n",
              "    .dataframe tbody tr th {\n",
              "        vertical-align: top;\n",
              "    }\n",
              "\n",
              "    .dataframe thead th {\n",
              "        text-align: right;\n",
              "    }\n",
              "</style>\n",
              "<table border=\"1\" class=\"dataframe\">\n",
              "  <thead>\n",
              "    <tr style=\"text-align: right;\">\n",
              "      <th></th>\n",
              "      <th>Participant</th>\n",
              "      <th>Diet Type</th>\n",
              "      <th>Exercise Intensity</th>\n",
              "      <th>Weight Loss (kg)</th>\n",
              "    </tr>\n",
              "  </thead>\n",
              "  <tbody>\n",
              "    <tr>\n",
              "      <th>0</th>\n",
              "      <td>1</td>\n",
              "      <td>Low-Carb</td>\n",
              "      <td>Low Intensity</td>\n",
              "      <td>2.5</td>\n",
              "    </tr>\n",
              "    <tr>\n",
              "      <th>1</th>\n",
              "      <td>2</td>\n",
              "      <td>Low-Carb</td>\n",
              "      <td>Low Intensity</td>\n",
              "      <td>2.8</td>\n",
              "    </tr>\n",
              "    <tr>\n",
              "      <th>2</th>\n",
              "      <td>3</td>\n",
              "      <td>Low-Carb</td>\n",
              "      <td>Low Intensity</td>\n",
              "      <td>2.9</td>\n",
              "    </tr>\n",
              "    <tr>\n",
              "      <th>3</th>\n",
              "      <td>4</td>\n",
              "      <td>Low-Carb</td>\n",
              "      <td>Low Intensity</td>\n",
              "      <td>3.0</td>\n",
              "    </tr>\n",
              "    <tr>\n",
              "      <th>4</th>\n",
              "      <td>5</td>\n",
              "      <td>Low-Carb</td>\n",
              "      <td>Low Intensity</td>\n",
              "      <td>2.7</td>\n",
              "    </tr>\n",
              "  </tbody>\n",
              "</table>\n",
              "</div>\n",
              "    <div class=\"colab-df-buttons\">\n",
              "\n",
              "  <div class=\"colab-df-container\">\n",
              "    <button class=\"colab-df-convert\" onclick=\"convertToInteractive('df-5c2d4d3a-ee6a-4ad3-ae3e-5620cef366d5')\"\n",
              "            title=\"Convert this dataframe to an interactive table.\"\n",
              "            style=\"display:none;\">\n",
              "\n",
              "  <svg xmlns=\"http://www.w3.org/2000/svg\" height=\"24px\" viewBox=\"0 -960 960 960\">\n",
              "    <path d=\"M120-120v-720h720v720H120Zm60-500h600v-160H180v160Zm220 220h160v-160H400v160Zm0 220h160v-160H400v160ZM180-400h160v-160H180v160Zm440 0h160v-160H620v160ZM180-180h160v-160H180v160Zm440 0h160v-160H620v160Z\"/>\n",
              "  </svg>\n",
              "    </button>\n",
              "\n",
              "  <style>\n",
              "    .colab-df-container {\n",
              "      display:flex;\n",
              "      gap: 12px;\n",
              "    }\n",
              "\n",
              "    .colab-df-convert {\n",
              "      background-color: #E8F0FE;\n",
              "      border: none;\n",
              "      border-radius: 50%;\n",
              "      cursor: pointer;\n",
              "      display: none;\n",
              "      fill: #1967D2;\n",
              "      height: 32px;\n",
              "      padding: 0 0 0 0;\n",
              "      width: 32px;\n",
              "    }\n",
              "\n",
              "    .colab-df-convert:hover {\n",
              "      background-color: #E2EBFA;\n",
              "      box-shadow: 0px 1px 2px rgba(60, 64, 67, 0.3), 0px 1px 3px 1px rgba(60, 64, 67, 0.15);\n",
              "      fill: #174EA6;\n",
              "    }\n",
              "\n",
              "    .colab-df-buttons div {\n",
              "      margin-bottom: 4px;\n",
              "    }\n",
              "\n",
              "    [theme=dark] .colab-df-convert {\n",
              "      background-color: #3B4455;\n",
              "      fill: #D2E3FC;\n",
              "    }\n",
              "\n",
              "    [theme=dark] .colab-df-convert:hover {\n",
              "      background-color: #434B5C;\n",
              "      box-shadow: 0px 1px 3px 1px rgba(0, 0, 0, 0.15);\n",
              "      filter: drop-shadow(0px 1px 2px rgba(0, 0, 0, 0.3));\n",
              "      fill: #FFFFFF;\n",
              "    }\n",
              "  </style>\n",
              "\n",
              "    <script>\n",
              "      const buttonEl =\n",
              "        document.querySelector('#df-5c2d4d3a-ee6a-4ad3-ae3e-5620cef366d5 button.colab-df-convert');\n",
              "      buttonEl.style.display =\n",
              "        google.colab.kernel.accessAllowed ? 'block' : 'none';\n",
              "\n",
              "      async function convertToInteractive(key) {\n",
              "        const element = document.querySelector('#df-5c2d4d3a-ee6a-4ad3-ae3e-5620cef366d5');\n",
              "        const dataTable =\n",
              "          await google.colab.kernel.invokeFunction('convertToInteractive',\n",
              "                                                    [key], {});\n",
              "        if (!dataTable) return;\n",
              "\n",
              "        const docLinkHtml = 'Like what you see? Visit the ' +\n",
              "          '<a target=\"_blank\" href=https://colab.research.google.com/notebooks/data_table.ipynb>data table notebook</a>'\n",
              "          + ' to learn more about interactive tables.';\n",
              "        element.innerHTML = '';\n",
              "        dataTable['output_type'] = 'display_data';\n",
              "        await google.colab.output.renderOutput(dataTable, element);\n",
              "        const docLink = document.createElement('div');\n",
              "        docLink.innerHTML = docLinkHtml;\n",
              "        element.appendChild(docLink);\n",
              "      }\n",
              "    </script>\n",
              "  </div>\n",
              "\n",
              "\n",
              "<div id=\"df-e7b8412d-c9ae-42b7-a042-54c55c63a256\">\n",
              "  <button class=\"colab-df-quickchart\" onclick=\"quickchart('df-e7b8412d-c9ae-42b7-a042-54c55c63a256')\"\n",
              "            title=\"Suggest charts\"\n",
              "            style=\"display:none;\">\n",
              "\n",
              "<svg xmlns=\"http://www.w3.org/2000/svg\" height=\"24px\"viewBox=\"0 0 24 24\"\n",
              "     width=\"24px\">\n",
              "    <g>\n",
              "        <path d=\"M19 3H5c-1.1 0-2 .9-2 2v14c0 1.1.9 2 2 2h14c1.1 0 2-.9 2-2V5c0-1.1-.9-2-2-2zM9 17H7v-7h2v7zm4 0h-2V7h2v10zm4 0h-2v-4h2v4z\"/>\n",
              "    </g>\n",
              "</svg>\n",
              "  </button>\n",
              "\n",
              "<style>\n",
              "  .colab-df-quickchart {\n",
              "      --bg-color: #E8F0FE;\n",
              "      --fill-color: #1967D2;\n",
              "      --hover-bg-color: #E2EBFA;\n",
              "      --hover-fill-color: #174EA6;\n",
              "      --disabled-fill-color: #AAA;\n",
              "      --disabled-bg-color: #DDD;\n",
              "  }\n",
              "\n",
              "  [theme=dark] .colab-df-quickchart {\n",
              "      --bg-color: #3B4455;\n",
              "      --fill-color: #D2E3FC;\n",
              "      --hover-bg-color: #434B5C;\n",
              "      --hover-fill-color: #FFFFFF;\n",
              "      --disabled-bg-color: #3B4455;\n",
              "      --disabled-fill-color: #666;\n",
              "  }\n",
              "\n",
              "  .colab-df-quickchart {\n",
              "    background-color: var(--bg-color);\n",
              "    border: none;\n",
              "    border-radius: 50%;\n",
              "    cursor: pointer;\n",
              "    display: none;\n",
              "    fill: var(--fill-color);\n",
              "    height: 32px;\n",
              "    padding: 0;\n",
              "    width: 32px;\n",
              "  }\n",
              "\n",
              "  .colab-df-quickchart:hover {\n",
              "    background-color: var(--hover-bg-color);\n",
              "    box-shadow: 0 1px 2px rgba(60, 64, 67, 0.3), 0 1px 3px 1px rgba(60, 64, 67, 0.15);\n",
              "    fill: var(--button-hover-fill-color);\n",
              "  }\n",
              "\n",
              "  .colab-df-quickchart-complete:disabled,\n",
              "  .colab-df-quickchart-complete:disabled:hover {\n",
              "    background-color: var(--disabled-bg-color);\n",
              "    fill: var(--disabled-fill-color);\n",
              "    box-shadow: none;\n",
              "  }\n",
              "\n",
              "  .colab-df-spinner {\n",
              "    border: 2px solid var(--fill-color);\n",
              "    border-color: transparent;\n",
              "    border-bottom-color: var(--fill-color);\n",
              "    animation:\n",
              "      spin 1s steps(1) infinite;\n",
              "  }\n",
              "\n",
              "  @keyframes spin {\n",
              "    0% {\n",
              "      border-color: transparent;\n",
              "      border-bottom-color: var(--fill-color);\n",
              "      border-left-color: var(--fill-color);\n",
              "    }\n",
              "    20% {\n",
              "      border-color: transparent;\n",
              "      border-left-color: var(--fill-color);\n",
              "      border-top-color: var(--fill-color);\n",
              "    }\n",
              "    30% {\n",
              "      border-color: transparent;\n",
              "      border-left-color: var(--fill-color);\n",
              "      border-top-color: var(--fill-color);\n",
              "      border-right-color: var(--fill-color);\n",
              "    }\n",
              "    40% {\n",
              "      border-color: transparent;\n",
              "      border-right-color: var(--fill-color);\n",
              "      border-top-color: var(--fill-color);\n",
              "    }\n",
              "    60% {\n",
              "      border-color: transparent;\n",
              "      border-right-color: var(--fill-color);\n",
              "    }\n",
              "    80% {\n",
              "      border-color: transparent;\n",
              "      border-right-color: var(--fill-color);\n",
              "      border-bottom-color: var(--fill-color);\n",
              "    }\n",
              "    90% {\n",
              "      border-color: transparent;\n",
              "      border-bottom-color: var(--fill-color);\n",
              "    }\n",
              "  }\n",
              "</style>\n",
              "\n",
              "  <script>\n",
              "    async function quickchart(key) {\n",
              "      const quickchartButtonEl =\n",
              "        document.querySelector('#' + key + ' button');\n",
              "      quickchartButtonEl.disabled = true;  // To prevent multiple clicks.\n",
              "      quickchartButtonEl.classList.add('colab-df-spinner');\n",
              "      try {\n",
              "        const charts = await google.colab.kernel.invokeFunction(\n",
              "            'suggestCharts', [key], {});\n",
              "      } catch (error) {\n",
              "        console.error('Error during call to suggestCharts:', error);\n",
              "      }\n",
              "      quickchartButtonEl.classList.remove('colab-df-spinner');\n",
              "      quickchartButtonEl.classList.add('colab-df-quickchart-complete');\n",
              "    }\n",
              "    (() => {\n",
              "      let quickchartButtonEl =\n",
              "        document.querySelector('#df-e7b8412d-c9ae-42b7-a042-54c55c63a256 button');\n",
              "      quickchartButtonEl.style.display =\n",
              "        google.colab.kernel.accessAllowed ? 'block' : 'none';\n",
              "    })();\n",
              "  </script>\n",
              "</div>\n",
              "\n",
              "    </div>\n",
              "  </div>\n"
            ],
            "application/vnd.google.colaboratory.intrinsic+json": {
              "type": "dataframe",
              "variable_name": "diet_df",
              "summary": "{\n  \"name\": \"diet_df\",\n  \"rows\": 20,\n  \"fields\": [\n    {\n      \"column\": \"Participant\",\n      \"properties\": {\n        \"dtype\": \"number\",\n        \"std\": 5,\n        \"min\": 1,\n        \"max\": 20,\n        \"num_unique_values\": 20,\n        \"samples\": [\n          1,\n          18,\n          16\n        ],\n        \"semantic_type\": \"\",\n        \"description\": \"\"\n      }\n    },\n    {\n      \"column\": \"Diet Type\",\n      \"properties\": {\n        \"dtype\": \"category\",\n        \"num_unique_values\": 2,\n        \"samples\": [\n          \"Low-Fat\",\n          \"Low-Carb\"\n        ],\n        \"semantic_type\": \"\",\n        \"description\": \"\"\n      }\n    },\n    {\n      \"column\": \"Exercise Intensity\",\n      \"properties\": {\n        \"dtype\": \"category\",\n        \"num_unique_values\": 2,\n        \"samples\": [\n          \"High Intensity\",\n          \"Low Intensity\"\n        ],\n        \"semantic_type\": \"\",\n        \"description\": \"\"\n      }\n    },\n    {\n      \"column\": \"Weight Loss (kg)\",\n      \"properties\": {\n        \"dtype\": \"number\",\n        \"std\": 1.2746103635807176,\n        \"min\": 1.4,\n        \"max\": 5.2,\n        \"num_unique_values\": 20,\n        \"samples\": [\n          2.5,\n          3.8\n        ],\n        \"semantic_type\": \"\",\n        \"description\": \"\"\n      }\n    }\n  ]\n}"
            }
          },
          "metadata": {},
          "execution_count": 3
        }
      ],
      "source": [
        "# loading the dataset\n",
        "\n",
        "diet_df = pd.read_csv(\"/content/drive/MyDrive/Applied Multivariate Data Anlysis/Diet Type and Exercise Intensity on Weight Loss.csv\")\n",
        "diet_df.head()"
      ]
    },
    {
      "cell_type": "markdown",
      "source": [
        "# **Assumption Validation**"
      ],
      "metadata": {
        "id": "OjvgJeRCMZRV"
      }
    },
    {
      "cell_type": "markdown",
      "source": [
        "**Normality Assumption**"
      ],
      "metadata": {
        "id": "u7gDcrICOEX9"
      }
    },
    {
      "cell_type": "code",
      "source": [
        "# Normality check using Shapiro-Wilk test\n",
        "for group in diet_df.groupby(['Diet Type', 'Exercise Intensity']):\n",
        "    stat, p_value = stats.shapiro(group[1]['Weight Loss (kg)'])\n",
        "    print(f'Shapiro-Wilk test for {group[0]}: p-value = {p_value}')"
      ],
      "metadata": {
        "colab": {
          "base_uri": "https://localhost:8080/"
        },
        "id": "S_LBjOvCMmMG",
        "outputId": "9a8aff9e-4568-4c36-8dc8-f6cbc5ad0ddb"
      },
      "execution_count": 7,
      "outputs": [
        {
          "output_type": "stream",
          "name": "stdout",
          "text": [
            "Shapiro-Wilk test for ('Low-Carb', 'High Intensity'): p-value = 0.7539729964660309\n",
            "Shapiro-Wilk test for ('Low-Carb', 'Low Intensity'): p-value = 0.9276364233495382\n",
            "Shapiro-Wilk test for ('Low-Fat', 'High Intensity'): p-value = 0.9671739349728593\n",
            "Shapiro-Wilk test for ('Low-Fat', 'Low Intensity'): p-value = 0.9671739349728582\n"
          ]
        }
      ]
    },
    {
      "cell_type": "markdown",
      "source": [
        "The p-values from the Shapiro-Wilk test for all groups are greater than 0.05, indicating that the weight loss data in each group follows a normal distribution. This means the normality assumption is satisfied."
      ],
      "metadata": {
        "id": "wSsItJ1vNTzI"
      }
    },
    {
      "cell_type": "markdown",
      "source": [
        "**Independence Assumption**\n",
        "\n",
        "There is no relationship between the observations in each group of the independent variable or between the groups themselves—the values of the weight in each observation are independent of each other."
      ],
      "metadata": {
        "id": "GHcXl0cSNzao"
      }
    },
    {
      "cell_type": "markdown",
      "source": [
        "**Homogeneity of Variance Assumption**"
      ],
      "metadata": {
        "id": "Z3xzNUPoOAh4"
      }
    },
    {
      "cell_type": "code",
      "source": [
        "# Homogeneity of variance using Levene's test\n",
        "stat, p_value = stats.levene(diet_df[diet_df['Diet Type'] == 'Low-Carb']['Weight Loss (kg)'],\n",
        "                             diet_df[diet_df['Diet Type'] == 'Low-Fat']['Weight Loss (kg)'])\n",
        "print(f\"Levene's test for homogeneity of variances: p-value = {p_value}\")\n",
        "\n",
        "# Visual check: boxplot for homogeneity of variance\n",
        "sns.boxplot(x='Diet Type', y='Weight Loss (kg)', hue='Exercise Intensity', data=diet_df)\n",
        "plt.title(\"Boxplot of Weight Loss by Diet Type and Exercise Intensity\")\n",
        "plt.show()"
      ],
      "metadata": {
        "colab": {
          "base_uri": "https://localhost:8080/",
          "height": 490
        },
        "id": "2p2OJSn4M7Gp",
        "outputId": "56067306-badc-4e3e-87c8-2c2ab88c2bad"
      },
      "execution_count": 12,
      "outputs": [
        {
          "output_type": "stream",
          "name": "stdout",
          "text": [
            "Levene's test for homogeneity of variances: p-value = 0.6065196636713183\n"
          ]
        },
        {
          "output_type": "display_data",
          "data": {
            "text/plain": [
              "<Figure size 640x480 with 1 Axes>"
            ],
            "image/png": "[encoded data removed]"
          },
          "metadata": {}
        }
      ]
    },
    {
      "cell_type": "markdown",
      "source": [
        "The p-value from Levene’s test is 0.6065, which is greater than 0.05. This suggests that the variances between the groups are not significantly different, meeting the homogeneity of variance assumption."
      ],
      "metadata": {
        "id": "hrQVgNvpNU9H"
      }
    },
    {
      "cell_type": "markdown",
      "source": [
        "# **Performing the 2x2 ANOVA**"
      ],
      "metadata": {
        "id": "4rwjyqs6Lnvp"
      }
    },
    {
      "cell_type": "code",
      "source": [
        "model = ols('Weight_Loss ~ C(Diet_Type) * C(Exercise_Intensity)', data=diet_df.rename(columns={'Weight Loss (kg)': 'Weight_Loss',\n",
        "                                                                                            'Diet Type': 'Diet_Type',\n",
        "                                                                                            'Exercise Intensity': 'Exercise_Intensity'})).fit()\n",
        "anova_table = sm.stats.anova_lm(model, typ=2)\n",
        "print(anova_table)"
      ],
      "metadata": {
        "colab": {
          "base_uri": "https://localhost:8080/"
        },
        "id": "yGkoXWqSOQ4Q",
        "outputId": "5bf41dec-4723-42fb-937d-673fdeae178b"
      },
      "execution_count": 13,
      "outputs": [
        {
          "output_type": "stream",
          "name": "stdout",
          "text": [
            "                                    sum_sq    df           F        PR(>F)\n",
            "C(Diet_Type)                         7.442   1.0  228.984615  6.697960e-11\n",
            "C(Exercise_Intensity)               22.898   1.0  704.553846  1.172348e-14\n",
            "C(Diet_Type):C(Exercise_Intensity)   0.008   1.0    0.246154  6.265427e-01\n",
            "Residual                             0.520  16.0         NaN           NaN\n"
          ]
        }
      ]
    },
    {
      "cell_type": "markdown",
      "source": [
        "**The Main Effect of Diet**\n",
        "\n",
        "The effect of diet type (Low-Carb vs. Low-Fat) on weight loss is **statistically significant** having a **p-value < .001**. The low p-value indicates that there is a significant difference in weight loss between participants on a Low-Carb diet and those on a Low-Fat diet.\n",
        "\n",
        "**The Main Effect of Exercise Intensity**\n",
        "\n",
        "The effect of exercise intensity (Low Intensity vs. High Intensity) on weight loss is also **statistically significant** having a **p-value <  0.001**. This suggests that exercise intensity significantly affects the amount of weight loss.\n",
        "\n",
        "**Interaction between Diet type and Exercise Intensity**\n",
        "\n",
        "The interaction effect between diet type and exercise intensity is **not statistically significant**, having a **p-value = 0.06265 ; p > 0.05**. This implies that the effect of diet type on weight loss does not depend on the exercise intensity, and vice versa."
      ],
      "metadata": {
        "id": "w512cSXNOmTW"
      }
    },
    {
      "cell_type": "markdown",
      "source": [
        "**Post-hoc Test**"
      ],
      "metadata": {
        "id": "dc-QnXFqObd1"
      }
    },
    {
      "cell_type": "code",
      "source": [
        "# Post-hoc test using Tukey's HSD\n",
        "tukey = pairwise_tukeyhsd(endog=diet_df['Weight Loss (kg)'],\n",
        "                          groups=diet_df['Diet Type'] + ' & ' + diet_df['Exercise Intensity'],\n",
        "                          alpha=0.05)\n",
        "print(tukey)"
      ],
      "metadata": {
        "colab": {
          "base_uri": "https://localhost:8080/"
        },
        "id": "7924SMH4OdNI",
        "outputId": "7806d593-5134-4f5e-dd5d-64122dfbd6bd"
      },
      "execution_count": 14,
      "outputs": [
        {
          "output_type": "stream",
          "name": "stdout",
          "text": [
            "                  Multiple Comparison of Means - Tukey HSD, FWER=0.05                   \n",
            "========================================================================================\n",
            "          group1                   group2          meandiff p-adj  lower   upper  reject\n",
            "----------------------------------------------------------------------------------------\n",
            "Low-Carb & High Intensity Low-Carb & Low Intensity    -2.18   0.0 -2.5062 -1.8538   True\n",
            "Low-Carb & High Intensity Low-Fat & High Intensity    -1.26   0.0 -1.5862 -0.9338   True\n",
            "Low-Carb & High Intensity  Low-Fat & Low Intensity    -3.36   0.0 -3.6862 -3.0338   True\n",
            " Low-Carb & Low Intensity Low-Fat & High Intensity     0.92   0.0  0.5938  1.2462   True\n",
            " Low-Carb & Low Intensity  Low-Fat & Low Intensity    -1.18   0.0 -1.5062 -0.8538   True\n",
            " Low-Fat & High Intensity  Low-Fat & Low Intensity     -2.1   0.0 -2.4262 -1.7738   True\n",
            "----------------------------------------------------------------------------------------\n"
          ]
        }
      ]
    },
    {
      "cell_type": "markdown",
      "source": [
        "The Tukey HSD test reveals that all pairwise comparisons between the diet and exercise groups show significant differences (p < .05).\n",
        "\n",
        "- **Low-Carb & High Intensity vs. Low-Carb & Low Intensity**: The mean difference is -2.18, indicating that high-intensity exercise results in significantly more weight loss than low-intensity exercise in the Low-Carb diet group.\n",
        "\n",
        "- **Low-Carb & High Intensity vs. Low-Fat & High Intensity**: The mean difference is -1.26, suggesting that even with high-intensity exercise, participants on the Low-Carb diet lose more weight than those on the Low-Fat diet.\n",
        "\n",
        "- **Low-Carb & High Intensity vs. Low-Fat & Low Intensity**: The mean difference of -3.36 suggests that participants on a Low-Carb, high-intensity regime lose significantly more weight than those on a Low-Fat, low-intensity regime.\n",
        "\n",
        "- **Other Pairwise Comparisons**: The rest of the comparisons also show significant differences, with weight loss being greater for participants engaging in higher intensity exercise or those following a Low-Carb diet."
      ],
      "metadata": {
        "id": "B2j3G92tPWGr"
      }
    }
  ]
}